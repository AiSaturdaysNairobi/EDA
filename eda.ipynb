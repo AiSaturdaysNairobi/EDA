{
 "cells": [
  {
   "cell_type": "markdown",
   "metadata": {},
   "source": [
    "# Exploratory Data Analysis\n",
    "\n",
    "This notebook delves into why EDA is important and various techniques to perform EDA"
   ]
  },
  {
   "cell_type": "markdown",
   "metadata": {},
   "source": [
    "## What is EDA"
   ]
  },
  {
   "cell_type": "markdown",
   "metadata": {},
   "source": [
    "### Why EDA is important"
   ]
  },
  {
   "cell_type": "markdown",
   "metadata": {},
   "source": [
    "### Who should use EDA"
   ]
  },
  {
   "cell_type": "markdown",
   "metadata": {},
   "source": [
    "### Can you go without EDA"
   ]
  },
  {
   "cell_type": "markdown",
   "metadata": {},
   "source": [
    "## Graphical Plots"
   ]
  },
  {
   "cell_type": "markdown",
   "metadata": {},
   "source": [
    "### Line Graphs\n",
    "A plot used to track the change in value over time. This naturally makes it suitable for time series data.\n",
    "\n",
    "### Area Chart\n",
    "Similar to line plot but then the area and under the curve is filled. It is used to visualize trend rather than values.\n",
    "\n",
    "### Stacked Area charts\n",
    "This an area chart that shows how much each part contributes to the total."
   ]
  },
  {
   "cell_type": "markdown",
   "metadata": {},
   "source": [
    "### Bar plots \n",
    "This is a plot that shows categorical data with their values.\n",
    "\n",
    "### Histograms\n",
    "This is a bar plot of frequency distributions whose width is equal to class interval\n",
    "### Stem plots\n",
    "### box plots\n",
    "This is a plot that gives the summary of data, by showing the quartiles."
   ]
  },
  {
   "cell_type": "markdown",
   "metadata": {},
   "source": [
    "### Pie Chart\n",
    "A chart used to show proportions of categorical quantities\n",
    "### Mosaic chart\n",
    "A chart that shows the relationship among two or more categorical variables"
   ]
  },
  {
   "cell_type": "markdown",
   "metadata": {},
   "source": [
    "### Scatter Plot\n",
    "A plot that checks for relationships between variables.\n",
    "### Dot Plot\n",
    "A bar plot that uses dots instead of bars"
   ]
  },
  {
   "cell_type": "markdown",
   "metadata": {},
   "source": [
    "### "
   ]
  },
  {
   "cell_type": "markdown",
   "metadata": {},
   "source": [
    "### Trellis\n",
    "A series of plots for showing multivariate data\n",
    "### radar plots\n",
    "Method of plotting high dimensional data. Each category forms a spoke in a circumfrence."
   ]
  },
  {
   "cell_type": "markdown",
   "metadata": {},
   "source": [
    "### Contour Plots\n",
    "Map three dimensional data to 2D plane. There are\n",
    "### Heat Maps\n",
    "A plot that uses color encoding to represent values"
   ]
  },
  {
   "cell_type": "markdown",
   "metadata": {},
   "source": [
    "## EDA Techniques"
   ]
  }
 ],
 "metadata": {
  "kernelspec": {
   "display_name": "Python 3",
   "language": "python",
   "name": "python3"
  },
  "language_info": {
   "codemirror_mode": {
    "name": "ipython",
    "version": 3
   },
   "file_extension": ".py",
   "mimetype": "text/x-python",
   "name": "python",
   "nbconvert_exporter": "python",
   "pygments_lexer": "ipython3",
   "version": "3.6.7"
  }
 },
 "nbformat": 4,
 "nbformat_minor": 2
}

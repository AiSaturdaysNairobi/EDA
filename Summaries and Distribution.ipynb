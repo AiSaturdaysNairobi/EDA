{
 "cells": [
  {
   "cell_type": "code",
   "execution_count": 5,
   "metadata": {},
   "outputs": [],
   "source": [
    "import pandas as pd\n",
    "\n",
    "import seaborn as sns"
   ]
  },
  {
   "cell_type": "code",
   "execution_count": 6,
   "metadata": {},
   "outputs": [
    {
     "data": {
      "text/html": [
       "<div>\n",
       "<style scoped>\n",
       "    .dataframe tbody tr th:only-of-type {\n",
       "        vertical-align: middle;\n",
       "    }\n",
       "\n",
       "    .dataframe tbody tr th {\n",
       "        vertical-align: top;\n",
       "    }\n",
       "\n",
       "    .dataframe thead th {\n",
       "        text-align: right;\n",
       "    }\n",
       "</style>\n",
       "<table border=\"1\" class=\"dataframe\">\n",
       "  <thead>\n",
       "    <tr style=\"text-align: right;\">\n",
       "      <th></th>\n",
       "      <th>Travel_Route</th>\n",
       "      <th>Year</th>\n",
       "      <th>Year_text</th>\n",
       "      <th>Visitors_on_Holiday</th>\n",
       "      <th>Visitors_on_Business</th>\n",
       "      <th>Visitors_in_Transit</th>\n",
       "      <th>Other_Visitors</th>\n",
       "      <th>Quater</th>\n",
       "      <th>Results_Status</th>\n",
       "      <th>OBJECTID</th>\n",
       "    </tr>\n",
       "  </thead>\n",
       "  <tbody>\n",
       "    <tr>\n",
       "      <th>203</th>\n",
       "      <td>Departures</td>\n",
       "      <td>12/31/2013 12:00:00 AM</td>\n",
       "      <td>2013</td>\n",
       "      <td>323300</td>\n",
       "      <td>53000</td>\n",
       "      <td>23200</td>\n",
       "      <td>32600</td>\n",
       "      <td>Q4</td>\n",
       "      <td>Actual</td>\n",
       "      <td>203</td>\n",
       "    </tr>\n",
       "    <tr>\n",
       "      <th>204</th>\n",
       "      <td>Departures</td>\n",
       "      <td>12/31/1991 12:00:00 AM</td>\n",
       "      <td>1991</td>\n",
       "      <td>142800</td>\n",
       "      <td>16400</td>\n",
       "      <td>12600</td>\n",
       "      <td>1100</td>\n",
       "      <td>Q4</td>\n",
       "      <td>Actual</td>\n",
       "      <td>204</td>\n",
       "    </tr>\n",
       "    <tr>\n",
       "      <th>205</th>\n",
       "      <td>Departures</td>\n",
       "      <td>12/31/1992 12:00:00 AM</td>\n",
       "      <td>1992</td>\n",
       "      <td>61800</td>\n",
       "      <td>16300</td>\n",
       "      <td>9400</td>\n",
       "      <td>1300</td>\n",
       "      <td>Q4</td>\n",
       "      <td>Actual</td>\n",
       "      <td>205</td>\n",
       "    </tr>\n",
       "    <tr>\n",
       "      <th>206</th>\n",
       "      <td>Departures</td>\n",
       "      <td>12/31/1993 12:00:00 AM</td>\n",
       "      <td>1993</td>\n",
       "      <td>113600</td>\n",
       "      <td>30000</td>\n",
       "      <td>17300</td>\n",
       "      <td>2400</td>\n",
       "      <td>Q4</td>\n",
       "      <td>Actual</td>\n",
       "      <td>206</td>\n",
       "    </tr>\n",
       "    <tr>\n",
       "      <th>207</th>\n",
       "      <td>Departures</td>\n",
       "      <td>12/31/1994 12:00:00 AM</td>\n",
       "      <td>1994</td>\n",
       "      <td>123400</td>\n",
       "      <td>32600</td>\n",
       "      <td>18800</td>\n",
       "      <td>2600</td>\n",
       "      <td>Q4</td>\n",
       "      <td>Actual</td>\n",
       "      <td>207</td>\n",
       "    </tr>\n",
       "  </tbody>\n",
       "</table>\n",
       "</div>"
      ],
      "text/plain": [
       "    Travel_Route                    Year Year_text  Visitors_on_Holiday  \\\n",
       "203   Departures  12/31/2013 12:00:00 AM      2013               323300   \n",
       "204   Departures  12/31/1991 12:00:00 AM      1991               142800   \n",
       "205   Departures  12/31/1992 12:00:00 AM      1992                61800   \n",
       "206   Departures  12/31/1993 12:00:00 AM      1993               113600   \n",
       "207   Departures  12/31/1994 12:00:00 AM      1994               123400   \n",
       "\n",
       "     Visitors_on_Business  Visitors_in_Transit  Other_Visitors Quater  \\\n",
       "203                 53000                23200           32600     Q4   \n",
       "204                 16400                12600            1100     Q4   \n",
       "205                 16300                 9400            1300     Q4   \n",
       "206                 30000                17300            2400     Q4   \n",
       "207                 32600                18800            2600     Q4   \n",
       "\n",
       "    Results_Status  OBJECTID  \n",
       "203         Actual       203  \n",
       "204         Actual       204  \n",
       "205         Actual       205  \n",
       "206         Actual       206  \n",
       "207         Actual       207  "
      ]
     },
     "execution_count": 6,
     "metadata": {},
     "output_type": "execute_result"
    }
   ],
   "source": [
    "busia_df = pd.read_csv('BusiaTravel.csv')\n",
    "busia_df.tail()"
   ]
  },
  {
   "cell_type": "markdown",
   "metadata": {},
   "source": [
    "# Statistical Summary"
   ]
  },
  {
   "cell_type": "code",
   "execution_count": 7,
   "metadata": {},
   "outputs": [
    {
     "data": {
      "text/html": [
       "<div>\n",
       "<style scoped>\n",
       "    .dataframe tbody tr th:only-of-type {\n",
       "        vertical-align: middle;\n",
       "    }\n",
       "\n",
       "    .dataframe tbody tr th {\n",
       "        vertical-align: top;\n",
       "    }\n",
       "\n",
       "    .dataframe thead th {\n",
       "        text-align: right;\n",
       "    }\n",
       "</style>\n",
       "<table border=\"1\" class=\"dataframe\">\n",
       "  <thead>\n",
       "    <tr style=\"text-align: right;\">\n",
       "      <th></th>\n",
       "      <th>Visitors_on_Holiday</th>\n",
       "      <th>Visitors_on_Business</th>\n",
       "      <th>Visitors_in_Transit</th>\n",
       "      <th>Other_Visitors</th>\n",
       "      <th>OBJECTID</th>\n",
       "    </tr>\n",
       "  </thead>\n",
       "  <tbody>\n",
       "    <tr>\n",
       "      <th>count</th>\n",
       "      <td>2.080000e+02</td>\n",
       "      <td>208.000000</td>\n",
       "      <td>208.000000</td>\n",
       "      <td>208.000000</td>\n",
       "      <td>208.000000</td>\n",
       "    </tr>\n",
       "    <tr>\n",
       "      <th>mean</th>\n",
       "      <td>2.397644e+05</td>\n",
       "      <td>45944.711538</td>\n",
       "      <td>29174.038462</td>\n",
       "      <td>21130.769231</td>\n",
       "      <td>103.500000</td>\n",
       "    </tr>\n",
       "    <tr>\n",
       "      <th>std</th>\n",
       "      <td>2.660668e+05</td>\n",
       "      <td>76878.181893</td>\n",
       "      <td>35199.888821</td>\n",
       "      <td>38864.680579</td>\n",
       "      <td>60.188592</td>\n",
       "    </tr>\n",
       "    <tr>\n",
       "      <th>min</th>\n",
       "      <td>6.180000e+04</td>\n",
       "      <td>14500.000000</td>\n",
       "      <td>5100.000000</td>\n",
       "      <td>200.000000</td>\n",
       "      <td>0.000000</td>\n",
       "    </tr>\n",
       "    <tr>\n",
       "      <th>25%</th>\n",
       "      <td>1.759500e+05</td>\n",
       "      <td>22975.000000</td>\n",
       "      <td>14975.000000</td>\n",
       "      <td>4600.000000</td>\n",
       "      <td>51.750000</td>\n",
       "    </tr>\n",
       "    <tr>\n",
       "      <th>50%</th>\n",
       "      <td>2.067500e+05</td>\n",
       "      <td>28750.000000</td>\n",
       "      <td>22900.000000</td>\n",
       "      <td>6000.000000</td>\n",
       "      <td>103.500000</td>\n",
       "    </tr>\n",
       "    <tr>\n",
       "      <th>75%</th>\n",
       "      <td>2.592500e+05</td>\n",
       "      <td>49300.000000</td>\n",
       "      <td>32700.000000</td>\n",
       "      <td>32800.000000</td>\n",
       "      <td>155.250000</td>\n",
       "    </tr>\n",
       "    <tr>\n",
       "      <th>max</th>\n",
       "      <td>2.966000e+06</td>\n",
       "      <td>756000.000000</td>\n",
       "      <td>386000.000000</td>\n",
       "      <td>376000.000000</td>\n",
       "      <td>207.000000</td>\n",
       "    </tr>\n",
       "  </tbody>\n",
       "</table>\n",
       "</div>"
      ],
      "text/plain": [
       "       Visitors_on_Holiday  Visitors_on_Business  Visitors_in_Transit  \\\n",
       "count         2.080000e+02            208.000000           208.000000   \n",
       "mean          2.397644e+05          45944.711538         29174.038462   \n",
       "std           2.660668e+05          76878.181893         35199.888821   \n",
       "min           6.180000e+04          14500.000000          5100.000000   \n",
       "25%           1.759500e+05          22975.000000         14975.000000   \n",
       "50%           2.067500e+05          28750.000000         22900.000000   \n",
       "75%           2.592500e+05          49300.000000         32700.000000   \n",
       "max           2.966000e+06         756000.000000        386000.000000   \n",
       "\n",
       "       Other_Visitors    OBJECTID  \n",
       "count      208.000000  208.000000  \n",
       "mean     21130.769231  103.500000  \n",
       "std      38864.680579   60.188592  \n",
       "min        200.000000    0.000000  \n",
       "25%       4600.000000   51.750000  \n",
       "50%       6000.000000  103.500000  \n",
       "75%      32800.000000  155.250000  \n",
       "max     376000.000000  207.000000  "
      ]
     },
     "execution_count": 7,
     "metadata": {},
     "output_type": "execute_result"
    }
   ],
   "source": [
    "busia_df.describe()"
   ]
  },
  {
   "cell_type": "markdown",
   "metadata": {},
   "source": [
    "## Central Tendancies\n",
    "it is a way to describe the center of a data set."
   ]
  },
  {
   "cell_type": "markdown",
   "metadata": {},
   "source": [
    "#### Mean\n",
    "Includes all the data"
   ]
  },
  {
   "cell_type": "markdown",
   "metadata": {},
   "source": [
    "#### Median\n",
    "Less affected by outliers"
   ]
  },
  {
   "cell_type": "markdown",
   "metadata": {},
   "source": [
    "#### Mode\n",
    "Most likely to be sampled"
   ]
  },
  {
   "cell_type": "markdown",
   "metadata": {},
   "source": [
    "## Spread / Variance\n",
    " is the extent to which a distribution is stretched or squeezed.\n",
    " "
   ]
  },
  {
   "cell_type": "markdown",
   "metadata": {},
   "source": [
    "#### Range"
   ]
  },
  {
   "cell_type": "markdown",
   "metadata": {},
   "source": [
    "#### Inter-quartile range"
   ]
  },
  {
   "cell_type": "markdown",
   "metadata": {},
   "source": [
    "#### Standard Deviation"
   ]
  },
  {
   "cell_type": "markdown",
   "metadata": {},
   "source": [
    "### box plots\n",
    "This is a plot that gives the summary of data, by showing the quartiles.\n",
    "\n",
    "<img src=\"Images/boxplot.gif\">\n"
   ]
  },
  {
   "cell_type": "code",
   "execution_count": 8,
   "metadata": {},
   "outputs": [
    {
     "data": {
      "image/png": "[encoded data removed]",
      "text/plain": [
       "<Figure size 432x288 with 1 Axes>"
      ]
     },
     "metadata": {
      "needs_background": "light"
     },
     "output_type": "display_data"
    }
   ],
   "source": [
    "%matplotlib inline\n",
    "boxplot = busia_df.boxplot(column=['Visitors_on_Holiday','Visitors_on_Business','Visitors_in_Transit','Other_Visitors'])\n"
   ]
  },
  {
   "cell_type": "markdown",
   "metadata": {},
   "source": [
    "### Dataset distribution\n",
    "A data distribution is a function or a listing which shows all the possible values (or intervals) of the data. It also (and this is important) tells you how often each value occurs. \n",
    "\n",
    "Dataset distributions are essential because the machine learning models make assumptions about the data passed to them and this can lead to the wrong results if data is passed to an unsuitable algorithm"
   ]
  },
  {
   "cell_type": "markdown",
   "metadata": {},
   "source": [
    "#### Normal Distribution\n",
    "Data distribution where values cluster around the centre:\n",
    "1. Symmetrical\n",
    "2. Mean, median and mode are equal\n",
    "3. Total area under curve is 100%\n",
    "\n",
    "<img src=\"Images/normal formula.png\">\n",
    "\n",
    "Most data follow this distribution"
   ]
  },
  {
   "cell_type": "markdown",
   "metadata": {},
   "source": [
    "<img src=\"Images/Normal.png\">"
   ]
  },
  {
   "cell_type": "markdown",
   "metadata": {},
   "source": [
    "#### Kurtosis\n",
    "Description of the tail"
   ]
  },
  {
   "cell_type": "markdown",
   "metadata": {},
   "source": [
    "#### Log Normal Distribution\n",
    "A lognormal (log-normal or Galton) distribution is a probability distribution with a normally distributed logarithm. A random variable is lognormally distributed if its logarithm is normally distributed.\n",
    "\n",
    "1. Skewed distributions with low mean values\n",
    "2. large variance\n",
    "3.  Values must be positive as log(x) exists only for positive values of x. "
   ]
  },
  {
   "cell_type": "markdown",
   "metadata": {},
   "source": [
    "<img src=\"Images/LogNormal.png\">"
   ]
  },
  {
   "cell_type": "markdown",
   "metadata": {},
   "source": [
    "#### Skewed Distributions\n",
    "\n",
    "Skewness : Symmetry of data\n",
    "* Where the mean is not equal to mode and median\n",
    "\n",
    "<img src=\"Images/skewness.jpg\">"
   ]
  },
  {
   "cell_type": "markdown",
   "metadata": {},
   "source": [
    "#### Poisson Distribution\n",
    "The Poisson distribution is the discrete probability distribution of the number of events occurring in a given time period, given the average number of times the event occurs over that time period. \n",
    "\n",
    "In addition to its use for staffing and scheduling, the Poisson distribution also has applications in biology (especially mutation detection), finance, disaster readiness, and any other situation in which events are time-independent. "
   ]
  },
  {
   "cell_type": "markdown",
   "metadata": {},
   "source": [
    "<img src=\"Images/Poisson.png\">"
   ]
  },
  {
   "cell_type": "markdown",
   "metadata": {},
   "source": [
    "#### Bernoulli Distribution\n",
    "A Bernouilli distribution is a discrete probability distribution for a Bernouilli trial — a random experiment that has only two outcomes (usually called a “Success” or a “Failure”). For example, the probability of getting a heads (a “success”) while flipping a coin is 0.5."
   ]
  },
  {
   "cell_type": "markdown",
   "metadata": {},
   "source": [
    "<img src=\"Images/Bernoulli.png\">"
   ]
  },
  {
   "cell_type": "markdown",
   "metadata": {},
   "source": [
    "#### Uniform Distribution'\n",
    "Constant probability"
   ]
  },
  {
   "cell_type": "markdown",
   "metadata": {},
   "source": [
    "<img src=\"Images/Uniform.png\">"
   ]
  },
  {
   "cell_type": "markdown",
   "metadata": {},
   "source": [
    "#### Binomial Distribution\n",
    "A binomial distribution can be thought of as simply the probability of a SUCCESS or FAILURE outcome in an experiment or survey that is repeated multiple times. The binomial is a type of distribution that has two possible outcomes (the prefix “bi” means two, or twice). For example, a coin toss has only two possible outcomes: heads or tails and taking a test could have two possible outcomes: pass or fail."
   ]
  },
  {
   "cell_type": "markdown",
   "metadata": {},
   "source": [
    "<img src=\"Images/Binomial_Distribution.png\">"
   ]
  },
  {
   "cell_type": "code",
   "execution_count": 9,
   "metadata": {},
   "outputs": [
    {
     "data": {
      "image/png": "[encoded data removed]",
      "text/plain": [
       "<Figure size 432x288 with 1 Axes>"
      ]
     },
     "metadata": {
      "needs_background": "light"
     },
     "output_type": "display_data"
    }
   ],
   "source": [
    "%matplotlib inline\n",
    "sns.distplot(busia_df.Visitors_in_Transit);\n"
   ]
  },
  {
   "cell_type": "code",
   "execution_count": 10,
   "metadata": {},
   "outputs": [
    {
     "data": {
      "image/png": "[encoded data removed]",
      "text/plain": [
       "<Figure size 432x288 with 1 Axes>"
      ]
     },
     "metadata": {
      "needs_background": "light"
     },
     "output_type": "display_data"
    }
   ],
   "source": [
    "sns.distplot(busia_df.Visitors_on_Holiday);"
   ]
  },
  {
   "cell_type": "code",
   "execution_count": 11,
   "metadata": {},
   "outputs": [
    {
     "data": {
      "image/png": "[encoded data removed]",
      "text/plain": [
       "<Figure size 432x288 with 1 Axes>"
      ]
     },
     "metadata": {
      "needs_background": "light"
     },
     "output_type": "display_data"
    }
   ],
   "source": [
    "sns.distplot(busia_df.Visitors_on_Business);"
   ]
  },
  {
   "cell_type": "code",
   "execution_count": 12,
   "metadata": {},
   "outputs": [
    {
     "data": {
      "image/png": "[encoded data removed]",
      "text/plain": [
       "<Figure size 432x288 with 1 Axes>"
      ]
     },
     "metadata": {
      "needs_background": "light"
     },
     "output_type": "display_data"
    }
   ],
   "source": [
    "sns.distplot(busia_df.Other_Visitors);"
   ]
  },
  {
   "cell_type": "code",
   "execution_count": null,
   "metadata": {},
   "outputs": [],
   "source": []
  }
 ],
 "metadata": {
  "kernelspec": {
   "display_name": "Python 3",
   "language": "python",
   "name": "python3"
  },
  "language_info": {
   "codemirror_mode": {
    "name": "ipython",
    "version": 3
   },
   "file_extension": ".py",
   "mimetype": "text/x-python",
   "name": "python",
   "nbconvert_exporter": "python",
   "pygments_lexer": "ipython3",
   "version": "3.6.7"
  }
 },
 "nbformat": 4,
 "nbformat_minor": 2
}

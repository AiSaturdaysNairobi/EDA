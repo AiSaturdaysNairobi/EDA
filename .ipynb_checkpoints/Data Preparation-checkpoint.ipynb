{
 "cells": [
  {
   "cell_type": "code",
   "execution_count": 13,
   "metadata": {},
   "outputs": [],
   "source": [
    "import pandas as pd\n",
    "\n",
    "import seaborn as sns"
   ]
  },
  {
   "cell_type": "code",
   "execution_count": 18,
   "metadata": {},
   "outputs": [
    {
     "data": {
      "text/html": [
       "<div>\n",
       "<style scoped>\n",
       "    .dataframe tbody tr th:only-of-type {\n",
       "        vertical-align: middle;\n",
       "    }\n",
       "\n",
       "    .dataframe tbody tr th {\n",
       "        vertical-align: top;\n",
       "    }\n",
       "\n",
       "    .dataframe thead th {\n",
       "        text-align: right;\n",
       "    }\n",
       "</style>\n",
       "<table border=\"1\" class=\"dataframe\">\n",
       "  <thead>\n",
       "    <tr style=\"text-align: right;\">\n",
       "      <th></th>\n",
       "      <th>Travel_Route</th>\n",
       "      <th>Year</th>\n",
       "      <th>Visitors_on_Holiday</th>\n",
       "      <th>Visitors_on_Business</th>\n",
       "      <th>Visitors_in_Transit</th>\n",
       "      <th>Other_Visitors</th>\n",
       "      <th>Quater</th>\n",
       "    </tr>\n",
       "  </thead>\n",
       "  <tbody>\n",
       "    <tr>\n",
       "      <th>203</th>\n",
       "      <td>Departures</td>\n",
       "      <td>12/31/2013 12:00:00 AM</td>\n",
       "      <td>323300</td>\n",
       "      <td>53000</td>\n",
       "      <td>23200</td>\n",
       "      <td>32600</td>\n",
       "      <td>Q4</td>\n",
       "    </tr>\n",
       "    <tr>\n",
       "      <th>204</th>\n",
       "      <td>Departures</td>\n",
       "      <td>12/31/1991 12:00:00 AM</td>\n",
       "      <td>142800</td>\n",
       "      <td>16400</td>\n",
       "      <td>12600</td>\n",
       "      <td>1100</td>\n",
       "      <td>Q4</td>\n",
       "    </tr>\n",
       "    <tr>\n",
       "      <th>205</th>\n",
       "      <td>Departures</td>\n",
       "      <td>12/31/1992 12:00:00 AM</td>\n",
       "      <td>61800</td>\n",
       "      <td>16300</td>\n",
       "      <td>9400</td>\n",
       "      <td>1300</td>\n",
       "      <td>Q4</td>\n",
       "    </tr>\n",
       "    <tr>\n",
       "      <th>206</th>\n",
       "      <td>Departures</td>\n",
       "      <td>12/31/1993 12:00:00 AM</td>\n",
       "      <td>113600</td>\n",
       "      <td>30000</td>\n",
       "      <td>17300</td>\n",
       "      <td>2400</td>\n",
       "      <td>Q4</td>\n",
       "    </tr>\n",
       "    <tr>\n",
       "      <th>207</th>\n",
       "      <td>Departures</td>\n",
       "      <td>12/31/1994 12:00:00 AM</td>\n",
       "      <td>123400</td>\n",
       "      <td>32600</td>\n",
       "      <td>18800</td>\n",
       "      <td>2600</td>\n",
       "      <td>Q4</td>\n",
       "    </tr>\n",
       "  </tbody>\n",
       "</table>\n",
       "</div>"
      ],
      "text/plain": [
       "    Travel_Route                    Year  Visitors_on_Holiday  \\\n",
       "203   Departures  12/31/2013 12:00:00 AM               323300   \n",
       "204   Departures  12/31/1991 12:00:00 AM               142800   \n",
       "205   Departures  12/31/1992 12:00:00 AM                61800   \n",
       "206   Departures  12/31/1993 12:00:00 AM               113600   \n",
       "207   Departures  12/31/1994 12:00:00 AM               123400   \n",
       "\n",
       "     Visitors_on_Business  Visitors_in_Transit  Other_Visitors Quater  \n",
       "203                 53000                23200           32600     Q4  \n",
       "204                 16400                12600            1100     Q4  \n",
       "205                 16300                 9400            1300     Q4  \n",
       "206                 30000                17300            2400     Q4  \n",
       "207                 32600                18800            2600     Q4  "
      ]
     },
     "execution_count": 18,
     "metadata": {},
     "output_type": "execute_result"
    }
   ],
   "source": [
    "busia_df = pd.read_csv('Data/BusiaTravel.csv')\n",
    "busia_df.drop(columns=['Year_text', 'Results_Status','OBJECTID'],inplace=True)\n",
    "\n",
    "busia_df.tail()"
   ]
  },
  {
   "cell_type": "markdown",
   "metadata": {},
   "source": [
    "# Data Preparation\n"
   ]
  },
  {
   "cell_type": "markdown",
   "metadata": {},
   "source": [
    "## Types Of Features\n",
    "* Categorical\n",
    "  * Nominal\n",
    "  * Ordinal\n",
    "  * Interval\n",
    "  * Binary\n",
    "* Numerical\n",
    "* Other Types\n",
    "  * Timeseries\n",
    "  * Audio\n",
    "  * Video\n",
    "  * Text\n"
   ]
  },
  {
   "cell_type": "markdown",
   "metadata": {},
   "source": [
    "## Missing Data\n",
    "\n",
    "Ways of dealing with missing values\n",
    "\n",
    "1. Removing them altogether\n",
    "2. Fill in using (0, median, minimum, maximum, any other values)\n"
   ]
  },
  {
   "cell_type": "markdown",
   "metadata": {},
   "source": [
    "##  Outliers\n",
    "Samples that veer too off from other data. They may be due to human error, corrupt data, \n",
    "\n",
    "<img src=\"Images/Outliers.jpg\">\n",
    "\n",
    "## Why we need to deal with outliers\n",
    "* Might strongly influence model (in a bad way)\n",
    "### Detection\n",
    "\n",
    "* Using standard deviation\n",
    "* Using clustering algorithms\n",
    "\n",
    "\n",
    "**Be careful when removing outliers, it possible the data was poorly sampled**"
   ]
  },
  {
   "cell_type": "markdown",
   "metadata": {},
   "source": [
    "### Correlation\n",
    "\n",
    "Measure of interdependence of variable quantities.\n",
    "\n",
    "<img src=\"Images/correlation.png\">\n",
    "\n"
   ]
  },
  {
   "cell_type": "markdown",
   "metadata": {},
   "source": [
    "Importance of correlation\n",
    "* Detect negative correlated data\n",
    "* Detect multicollinearity (Structural and Data)\n",
    " \n",
    "**Find a sweet spot**"
   ]
  },
  {
   "cell_type": "code",
   "execution_count": 15,
   "metadata": {},
   "outputs": [
    {
     "data": {
      "text/plain": [
       "<matplotlib.axes._subplots.AxesSubplot at 0x7f74ce12a7f0>"
      ]
     },
     "execution_count": 15,
     "metadata": {},
     "output_type": "execute_result"
    },
    {
     "data": {
      "image/png": "[encoded data removed]",
      "text/plain": [
       "<Figure size 432x288 with 2 Axes>"
      ]
     },
     "metadata": {
      "needs_background": "light"
     },
     "output_type": "display_data"
    }
   ],
   "source": [
    "corr = busia_df.corr()\n",
    "sns.heatmap(corr, \n",
    "        xticklabels=corr.columns,\n",
    "        yticklabels=corr.columns)"
   ]
  },
  {
   "cell_type": "markdown",
   "metadata": {},
   "source": [
    "## Normalizing\n",
    "\n",
    "This is the process of transforming data to a common scale because some algorithms treating data differently based on magnitude\n",
    "\n",
    "\n"
   ]
  },
  {
   "cell_type": "code",
   "execution_count": 25,
   "metadata": {},
   "outputs": [
    {
     "name": "stderr",
     "output_type": "stream",
     "text": [
      "/home/sylvia/face/lib/python3.6/site-packages/sklearn/preprocessing/data.py:323: DataConversionWarning: Data with input dtype int64 were all converted to float64 by MinMaxScaler.\n",
      "  return self.partial_fit(X, y)\n"
     ]
    },
    {
     "data": {
      "text/html": [
       "<div>\n",
       "<style scoped>\n",
       "    .dataframe tbody tr th:only-of-type {\n",
       "        vertical-align: middle;\n",
       "    }\n",
       "\n",
       "    .dataframe tbody tr th {\n",
       "        vertical-align: top;\n",
       "    }\n",
       "\n",
       "    .dataframe thead th {\n",
       "        text-align: right;\n",
       "    }\n",
       "</style>\n",
       "<table border=\"1\" class=\"dataframe\">\n",
       "  <thead>\n",
       "    <tr style=\"text-align: right;\">\n",
       "      <th></th>\n",
       "      <th>Travel_Route</th>\n",
       "      <th>Year</th>\n",
       "      <th>Visitors_on_Holiday</th>\n",
       "      <th>Visitors_on_Business</th>\n",
       "      <th>Visitors_in_Transit</th>\n",
       "      <th>Other_Visitors</th>\n",
       "      <th>Quater</th>\n",
       "    </tr>\n",
       "  </thead>\n",
       "  <tbody>\n",
       "    <tr>\n",
       "      <th>0</th>\n",
       "      <td>Arrivals</td>\n",
       "      <td>03/31/2005 12:00:00 AM</td>\n",
       "      <td>0.069830</td>\n",
       "      <td>0.676332</td>\n",
       "      <td>0.044894</td>\n",
       "      <td>0.099521</td>\n",
       "      <td>Q1</td>\n",
       "    </tr>\n",
       "    <tr>\n",
       "      <th>1</th>\n",
       "      <td>Arrivals</td>\n",
       "      <td>06/30/1991 12:00:00 AM</td>\n",
       "      <td>0.030163</td>\n",
       "      <td>0.002832</td>\n",
       "      <td>0.000000</td>\n",
       "      <td>0.005854</td>\n",
       "      <td>Q2</td>\n",
       "    </tr>\n",
       "    <tr>\n",
       "      <th>2</th>\n",
       "      <td>Arrivals</td>\n",
       "      <td>09/30/1991 12:00:00 AM</td>\n",
       "      <td>0.053061</td>\n",
       "      <td>0.011598</td>\n",
       "      <td>0.021265</td>\n",
       "      <td>0.010378</td>\n",
       "      <td>Q3</td>\n",
       "    </tr>\n",
       "    <tr>\n",
       "      <th>3</th>\n",
       "      <td>Arrivals</td>\n",
       "      <td>12/31/1991 12:00:00 AM</td>\n",
       "      <td>0.033262</td>\n",
       "      <td>0.007417</td>\n",
       "      <td>0.019428</td>\n",
       "      <td>0.020490</td>\n",
       "      <td>Q4</td>\n",
       "    </tr>\n",
       "    <tr>\n",
       "      <th>4</th>\n",
       "      <td>Arrivals</td>\n",
       "      <td>03/31/1992 12:00:00 AM</td>\n",
       "      <td>0.032229</td>\n",
       "      <td>0.033176</td>\n",
       "      <td>0.037018</td>\n",
       "      <td>0.014103</td>\n",
       "      <td>Q1</td>\n",
       "    </tr>\n",
       "  </tbody>\n",
       "</table>\n",
       "</div>"
      ],
      "text/plain": [
       "  Travel_Route                    Year  Visitors_on_Holiday  \\\n",
       "0     Arrivals  03/31/2005 12:00:00 AM             0.069830   \n",
       "1     Arrivals  06/30/1991 12:00:00 AM             0.030163   \n",
       "2     Arrivals  09/30/1991 12:00:00 AM             0.053061   \n",
       "3     Arrivals  12/31/1991 12:00:00 AM             0.033262   \n",
       "4     Arrivals  03/31/1992 12:00:00 AM             0.032229   \n",
       "\n",
       "   Visitors_on_Business  Visitors_in_Transit  Other_Visitors Quater  \n",
       "0              0.676332             0.044894        0.099521     Q1  \n",
       "1              0.002832             0.000000        0.005854     Q2  \n",
       "2              0.011598             0.021265        0.010378     Q3  \n",
       "3              0.007417             0.019428        0.020490     Q4  \n",
       "4              0.033176             0.037018        0.014103     Q1  "
      ]
     },
     "execution_count": 25,
     "metadata": {},
     "output_type": "execute_result"
    }
   ],
   "source": [
    "from sklearn import preprocessing\n",
    "busia_df_normalized = busia_df\n",
    "min_max_scaler = preprocessing.MinMaxScaler()\n",
    "np_scaled = min_max_scaler.fit_transform(busia_df[['Visitors_in_Transit','Visitors_on_Holiday','Visitors_on_Business','Other_Visitors']])\n",
    "busia_df_normalized[['Visitors_in_Transit','Visitors_on_Holiday','Visitors_on_Business','Other_Visitors']] = np_scaled\n",
    "busia_df_normalized.head()"
   ]
  },
  {
   "cell_type": "code",
   "execution_count": 24,
   "metadata": {},
   "outputs": [
    {
     "data": {
      "image/png": "[encoded data removed]",
      "text/plain": [
       "<Figure size 720x504 with 1 Axes>"
      ]
     },
     "metadata": {
      "needs_background": "light"
     },
     "output_type": "display_data"
    }
   ],
   "source": [
    "import matplotlib.pyplot as plt\n",
    "plt.rcParams['figure.figsize'] = [10, 7]\n",
    "boxplot = busia_df_normalized.boxplot(column=['Visitors_on_Holiday','Visitors_on_Business','Visitors_in_Transit','Other_Visitors'])"
   ]
  },
  {
   "cell_type": "code",
   "execution_count": null,
   "metadata": {},
   "outputs": [],
   "source": []
  }
 ],
 "metadata": {
  "kernelspec": {
   "display_name": "Python 3",
   "language": "python",
   "name": "python3"
  },
  "language_info": {
   "codemirror_mode": {
    "name": "ipython",
    "version": 3
   },
   "file_extension": ".py",
   "mimetype": "text/x-python",
   "name": "python",
   "nbconvert_exporter": "python",
   "pygments_lexer": "ipython3",
   "version": "3.6.7"
  }
 },
 "nbformat": 4,
 "nbformat_minor": 2
}
